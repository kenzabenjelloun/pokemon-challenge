{
 "cells": [
  {
   "cell_type": "markdown",
   "id": "c0adb6aa-213a-4442-9bfb-6eb7cd79a4d2",
   "metadata": {},
   "source": [
    "# Predict whether a pokemon is legendary"
   ]
  },
  {
   "cell_type": "markdown",
   "id": "6242ecb1-bfb6-43ec-a050-63d4fcdffc08",
   "metadata": {},
   "source": [
    "Authors : Eliot Calimez, Erwan Le Blévec, Kenza Ben jelloun, Matthieu Dubois, Romain Bernard and Vincent Tchoumba"
   ]
  },
  {
   "cell_type": "markdown",
   "id": "9ea47397-fd9c-45d4-bf37-a1ff9c51948b",
   "metadata": {
    "tags": []
   },
   "source": [
    "# Table of contents"
   ]
  },
  {
   "cell_type": "markdown",
   "id": "030cdeaf-435a-4a96-95de-933b5bbe4464",
   "metadata": {},
   "source": [
    "Introduction  \n",
    "Getting the data  \n",
    "The data  \n",
    "The labels  \n",
    "Data Analysis  \n",
    "Workflow"
   ]
  },
  {
   "cell_type": "markdown",
   "id": "e301b321-487a-4feb-90f0-0100a73bf790",
   "metadata": {
    "tags": []
   },
   "source": [
    "# Introduction"
   ]
  },
  {
   "cell_type": "markdown",
   "id": "e2a71cdf",
   "metadata": {},
   "source": [
    "![pokemon](img/pokemon.jpg)"
   ]
  },
  {
   "cell_type": "markdown",
   "id": "6595444a-ef6e-40f3-900f-4727e2ad6d30",
   "metadata": {},
   "source": [
    "### Context\n",
    "Fascinated by Pokemon's world, you've always wondered what makes them so special! This challenge is for you! Indeed, in this challenge, we offer you the possibility to predict with the help of the various attributes if a pokemon is legendary or not. Whether you're an amateur or professional pokemon player, you'll be able to build stronger, more balanced teams, as well as gain a better understanding of the mechanics that make legendary Pokémon so special.\n",
    "\n",
    "### Goal of the challenge\n",
    "Based on a pokemon's stats, decide whether or not it is legendary.\n"
   ]
  },
  {
   "cell_type": "markdown",
   "id": "b63a8c30-70bc-4399-af6c-0480231455e2",
   "metadata": {},
   "source": [
    "# Getting the data"
   ]
  },
  {
   "cell_type": "code",
   "execution_count": 4,
   "id": "9eee7633-1cdd-4475-98f7-ada900f91ee1",
   "metadata": {},
   "outputs": [],
   "source": [
    "%matplotlib inline\n",
    "\n",
    "import numpy as np\n",
    "import pandas as pd\n",
    "import matplotlib.pyplot as plt\n",
    "import seaborn as sns"
   ]
  },
  {
   "cell_type": "code",
   "execution_count": 5,
   "id": "2e0c0e29-1df4-460b-8285-ee51555a9738",
   "metadata": {},
   "outputs": [],
   "source": [
    "#from problem import get_train_data\n",
    "#data_train, labels_train = get_train_data()"
   ]
  },
  {
   "cell_type": "markdown",
   "id": "6d64f1ae-1b55-48cd-b89e-c812d0161e3f",
   "metadata": {},
   "source": [
    "# Pas encore les données !!!!!!!!!!!!!!!!! (provisoire)"
   ]
  },
  {
   "cell_type": "code",
   "execution_count": 6,
   "id": "80f97b2d-625c-4e50-b216-496f45f86604",
   "metadata": {},
   "outputs": [],
   "source": [
    "pokemon = pd.read_csv(\"data/initial_data/pokemon.csv\")"
   ]
  },
  {
   "cell_type": "code",
   "execution_count": 7,
   "id": "ff6d328e-8462-462f-b983-2721efe4f3fa",
   "metadata": {},
   "outputs": [
    {
     "data": {
      "text/html": [
       "<div>\n",
       "<style scoped>\n",
       "    .dataframe tbody tr th:only-of-type {\n",
       "        vertical-align: middle;\n",
       "    }\n",
       "\n",
       "    .dataframe tbody tr th {\n",
       "        vertical-align: top;\n",
       "    }\n",
       "\n",
       "    .dataframe thead th {\n",
       "        text-align: right;\n",
       "    }\n",
       "</style>\n",
       "<table border=\"1\" class=\"dataframe\">\n",
       "  <thead>\n",
       "    <tr style=\"text-align: right;\">\n",
       "      <th></th>\n",
       "      <th>#</th>\n",
       "      <th>Name</th>\n",
       "      <th>Type 1</th>\n",
       "      <th>Type 2</th>\n",
       "      <th>HP</th>\n",
       "      <th>Attack</th>\n",
       "      <th>Defense</th>\n",
       "      <th>Sp. Atk</th>\n",
       "      <th>Sp. Def</th>\n",
       "      <th>Speed</th>\n",
       "      <th>Generation</th>\n",
       "      <th>Legendary</th>\n",
       "    </tr>\n",
       "  </thead>\n",
       "  <tbody>\n",
       "    <tr>\n",
       "      <th>0</th>\n",
       "      <td>1</td>\n",
       "      <td>Bulbasaur</td>\n",
       "      <td>Grass</td>\n",
       "      <td>Poison</td>\n",
       "      <td>45</td>\n",
       "      <td>49</td>\n",
       "      <td>49</td>\n",
       "      <td>65</td>\n",
       "      <td>65</td>\n",
       "      <td>45</td>\n",
       "      <td>1</td>\n",
       "      <td>False</td>\n",
       "    </tr>\n",
       "    <tr>\n",
       "      <th>1</th>\n",
       "      <td>2</td>\n",
       "      <td>Ivysaur</td>\n",
       "      <td>Grass</td>\n",
       "      <td>Poison</td>\n",
       "      <td>60</td>\n",
       "      <td>62</td>\n",
       "      <td>63</td>\n",
       "      <td>80</td>\n",
       "      <td>80</td>\n",
       "      <td>60</td>\n",
       "      <td>1</td>\n",
       "      <td>False</td>\n",
       "    </tr>\n",
       "    <tr>\n",
       "      <th>2</th>\n",
       "      <td>3</td>\n",
       "      <td>Venusaur</td>\n",
       "      <td>Grass</td>\n",
       "      <td>Poison</td>\n",
       "      <td>80</td>\n",
       "      <td>82</td>\n",
       "      <td>83</td>\n",
       "      <td>100</td>\n",
       "      <td>100</td>\n",
       "      <td>80</td>\n",
       "      <td>1</td>\n",
       "      <td>False</td>\n",
       "    </tr>\n",
       "    <tr>\n",
       "      <th>3</th>\n",
       "      <td>4</td>\n",
       "      <td>Mega Venusaur</td>\n",
       "      <td>Grass</td>\n",
       "      <td>Poison</td>\n",
       "      <td>80</td>\n",
       "      <td>100</td>\n",
       "      <td>123</td>\n",
       "      <td>122</td>\n",
       "      <td>120</td>\n",
       "      <td>80</td>\n",
       "      <td>1</td>\n",
       "      <td>False</td>\n",
       "    </tr>\n",
       "    <tr>\n",
       "      <th>4</th>\n",
       "      <td>5</td>\n",
       "      <td>Charmander</td>\n",
       "      <td>Fire</td>\n",
       "      <td>NaN</td>\n",
       "      <td>39</td>\n",
       "      <td>52</td>\n",
       "      <td>43</td>\n",
       "      <td>60</td>\n",
       "      <td>50</td>\n",
       "      <td>65</td>\n",
       "      <td>1</td>\n",
       "      <td>False</td>\n",
       "    </tr>\n",
       "  </tbody>\n",
       "</table>\n",
       "</div>"
      ],
      "text/plain": [
       "   #           Name Type 1  Type 2  HP  Attack  Defense  Sp. Atk  Sp. Def  \\\n",
       "0  1      Bulbasaur  Grass  Poison  45      49       49       65       65   \n",
       "1  2        Ivysaur  Grass  Poison  60      62       63       80       80   \n",
       "2  3       Venusaur  Grass  Poison  80      82       83      100      100   \n",
       "3  4  Mega Venusaur  Grass  Poison  80     100      123      122      120   \n",
       "4  5     Charmander   Fire     NaN  39      52       43       60       50   \n",
       "\n",
       "   Speed  Generation  Legendary  \n",
       "0     45           1      False  \n",
       "1     60           1      False  \n",
       "2     80           1      False  \n",
       "3     80           1      False  \n",
       "4     65           1      False  "
      ]
     },
     "execution_count": 7,
     "metadata": {},
     "output_type": "execute_result"
    }
   ],
   "source": [
    "pokemon.head()"
   ]
  },
  {
   "cell_type": "code",
   "execution_count": 8,
   "id": "b5aec74d-5bd0-40ad-9485-cb9df3dd151e",
   "metadata": {},
   "outputs": [],
   "source": [
    "data = pokemon.drop(columns=['Legendary','#'])\n",
    "labels = pokemon['Legendary'].astype(float)"
   ]
  },
  {
   "cell_type": "code",
   "execution_count": 9,
   "id": "b99135cc-e5e4-4edd-a25a-a04916a7d890",
   "metadata": {},
   "outputs": [],
   "source": [
    "from sklearn.model_selection import train_test_split\n",
    "data_train, data_test, labels_train, labels_test = train_test_split(data, labels)"
   ]
  },
  {
   "cell_type": "markdown",
   "id": "0ab91505-609f-428b-bb69-a31f8b49494c",
   "metadata": {},
   "source": [
    "# The data"
   ]
  },
  {
   "cell_type": "markdown",
   "id": "8568c113-2260-4a2d-95f2-abe96998c725",
   "metadata": {},
   "source": [
    "### We start with inspecting the trainning data"
   ]
  },
  {
   "cell_type": "code",
   "execution_count": 10,
   "id": "ac075c66-890d-4e15-bfc9-22a034be1976",
   "metadata": {},
   "outputs": [
    {
     "data": {
      "text/html": [
       "<div>\n",
       "<style scoped>\n",
       "    .dataframe tbody tr th:only-of-type {\n",
       "        vertical-align: middle;\n",
       "    }\n",
       "\n",
       "    .dataframe tbody tr th {\n",
       "        vertical-align: top;\n",
       "    }\n",
       "\n",
       "    .dataframe thead th {\n",
       "        text-align: right;\n",
       "    }\n",
       "</style>\n",
       "<table border=\"1\" class=\"dataframe\">\n",
       "  <thead>\n",
       "    <tr style=\"text-align: right;\">\n",
       "      <th></th>\n",
       "      <th>Name</th>\n",
       "      <th>Type 1</th>\n",
       "      <th>Type 2</th>\n",
       "      <th>HP</th>\n",
       "      <th>Attack</th>\n",
       "      <th>Defense</th>\n",
       "      <th>Sp. Atk</th>\n",
       "      <th>Sp. Def</th>\n",
       "      <th>Speed</th>\n",
       "      <th>Generation</th>\n",
       "    </tr>\n",
       "  </thead>\n",
       "  <tbody>\n",
       "    <tr>\n",
       "      <th>220</th>\n",
       "      <td>Forretress</td>\n",
       "      <td>Bug</td>\n",
       "      <td>Steel</td>\n",
       "      <td>75</td>\n",
       "      <td>90</td>\n",
       "      <td>140</td>\n",
       "      <td>60</td>\n",
       "      <td>60</td>\n",
       "      <td>40</td>\n",
       "      <td>2</td>\n",
       "    </tr>\n",
       "    <tr>\n",
       "      <th>454</th>\n",
       "      <td>Rampardos</td>\n",
       "      <td>Rock</td>\n",
       "      <td>NaN</td>\n",
       "      <td>97</td>\n",
       "      <td>165</td>\n",
       "      <td>60</td>\n",
       "      <td>65</td>\n",
       "      <td>50</td>\n",
       "      <td>58</td>\n",
       "      <td>4</td>\n",
       "    </tr>\n",
       "    <tr>\n",
       "      <th>59</th>\n",
       "      <td>Psyduck</td>\n",
       "      <td>Water</td>\n",
       "      <td>NaN</td>\n",
       "      <td>50</td>\n",
       "      <td>52</td>\n",
       "      <td>48</td>\n",
       "      <td>65</td>\n",
       "      <td>50</td>\n",
       "      <td>55</td>\n",
       "      <td>1</td>\n",
       "    </tr>\n",
       "    <tr>\n",
       "      <th>466</th>\n",
       "      <td>Floatzel</td>\n",
       "      <td>Water</td>\n",
       "      <td>NaN</td>\n",
       "      <td>85</td>\n",
       "      <td>105</td>\n",
       "      <td>55</td>\n",
       "      <td>85</td>\n",
       "      <td>50</td>\n",
       "      <td>115</td>\n",
       "      <td>4</td>\n",
       "    </tr>\n",
       "    <tr>\n",
       "      <th>364</th>\n",
       "      <td>Swablu</td>\n",
       "      <td>Normal</td>\n",
       "      <td>Flying</td>\n",
       "      <td>45</td>\n",
       "      <td>40</td>\n",
       "      <td>60</td>\n",
       "      <td>40</td>\n",
       "      <td>75</td>\n",
       "      <td>50</td>\n",
       "      <td>3</td>\n",
       "    </tr>\n",
       "    <tr>\n",
       "      <th>...</th>\n",
       "      <td>...</td>\n",
       "      <td>...</td>\n",
       "      <td>...</td>\n",
       "      <td>...</td>\n",
       "      <td>...</td>\n",
       "      <td>...</td>\n",
       "      <td>...</td>\n",
       "      <td>...</td>\n",
       "      <td>...</td>\n",
       "      <td>...</td>\n",
       "    </tr>\n",
       "    <tr>\n",
       "      <th>386</th>\n",
       "      <td>Banette</td>\n",
       "      <td>Ghost</td>\n",
       "      <td>NaN</td>\n",
       "      <td>64</td>\n",
       "      <td>115</td>\n",
       "      <td>65</td>\n",
       "      <td>83</td>\n",
       "      <td>63</td>\n",
       "      <td>65</td>\n",
       "      <td>3</td>\n",
       "    </tr>\n",
       "    <tr>\n",
       "      <th>342</th>\n",
       "      <td>Volbeat</td>\n",
       "      <td>Bug</td>\n",
       "      <td>NaN</td>\n",
       "      <td>65</td>\n",
       "      <td>73</td>\n",
       "      <td>55</td>\n",
       "      <td>47</td>\n",
       "      <td>75</td>\n",
       "      <td>85</td>\n",
       "      <td>3</td>\n",
       "    </tr>\n",
       "    <tr>\n",
       "      <th>559</th>\n",
       "      <td>Emboar</td>\n",
       "      <td>Fire</td>\n",
       "      <td>Fighting</td>\n",
       "      <td>110</td>\n",
       "      <td>123</td>\n",
       "      <td>65</td>\n",
       "      <td>100</td>\n",
       "      <td>65</td>\n",
       "      <td>65</td>\n",
       "      <td>5</td>\n",
       "    </tr>\n",
       "    <tr>\n",
       "      <th>392</th>\n",
       "      <td>Absol</td>\n",
       "      <td>Dark</td>\n",
       "      <td>NaN</td>\n",
       "      <td>65</td>\n",
       "      <td>130</td>\n",
       "      <td>60</td>\n",
       "      <td>75</td>\n",
       "      <td>60</td>\n",
       "      <td>75</td>\n",
       "      <td>3</td>\n",
       "    </tr>\n",
       "    <tr>\n",
       "      <th>704</th>\n",
       "      <td>Thundurus Incarnate Forme</td>\n",
       "      <td>Electric</td>\n",
       "      <td>Flying</td>\n",
       "      <td>79</td>\n",
       "      <td>115</td>\n",
       "      <td>70</td>\n",
       "      <td>125</td>\n",
       "      <td>80</td>\n",
       "      <td>111</td>\n",
       "      <td>5</td>\n",
       "    </tr>\n",
       "  </tbody>\n",
       "</table>\n",
       "<p>600 rows × 10 columns</p>\n",
       "</div>"
      ],
      "text/plain": [
       "                          Name    Type 1    Type 2   HP  Attack  Defense  \\\n",
       "220                 Forretress       Bug     Steel   75      90      140   \n",
       "454                  Rampardos      Rock       NaN   97     165       60   \n",
       "59                     Psyduck     Water       NaN   50      52       48   \n",
       "466                   Floatzel     Water       NaN   85     105       55   \n",
       "364                     Swablu    Normal    Flying   45      40       60   \n",
       "..                         ...       ...       ...  ...     ...      ...   \n",
       "386                    Banette     Ghost       NaN   64     115       65   \n",
       "342                    Volbeat       Bug       NaN   65      73       55   \n",
       "559                     Emboar      Fire  Fighting  110     123       65   \n",
       "392                      Absol      Dark       NaN   65     130       60   \n",
       "704  Thundurus Incarnate Forme  Electric    Flying   79     115       70   \n",
       "\n",
       "     Sp. Atk  Sp. Def  Speed  Generation  \n",
       "220       60       60     40           2  \n",
       "454       65       50     58           4  \n",
       "59        65       50     55           1  \n",
       "466       85       50    115           4  \n",
       "364       40       75     50           3  \n",
       "..       ...      ...    ...         ...  \n",
       "386       83       63     65           3  \n",
       "342       47       75     85           3  \n",
       "559      100       65     65           5  \n",
       "392       75       60     75           3  \n",
       "704      125       80    111           5  \n",
       "\n",
       "[600 rows x 10 columns]"
      ]
     },
     "execution_count": 10,
     "metadata": {},
     "output_type": "execute_result"
    }
   ],
   "source": [
    "data_train"
   ]
  },
  {
   "cell_type": "markdown",
   "id": "3f4fd5dd-55a0-413c-a0b1-4d03b69bf4ef",
   "metadata": {},
   "source": [
    "#### The data consists of 11 primary inputs variables :\n",
    "        - 'Name' : each pokemon has a unique name\n",
    "        - 'Type 1' and  'Type 2' : These 2 columns represent the types of attacks a pokemon can send. Each attack type has its own strengths and weaknesses against other attack types, so players must be strategic in selecting Pokemon and attack types for each battle.\n",
    "        - 'HP' : Hit Points is the amount of damage a Pokemon can take before it is defeated. HP is therefore an indicator of a Pokemon's health and its ability to survive enemy attacks.\n",
    "        - 'Attack' and 'Sp.Atk' : represent the offensive power of a Pokemon in an attack or special attack\n",
    "        - 'Defense' and 'Sp.Def' : represent Pokemon's ability to resist enemy attacks and reduce the damage it takes.\n",
    "        - 'Speed' : represents how fast a Pokemon moves. In the Pokemon universe, 'Speed' represents how fast a Pokemon moves or attacks in battle. Speed is one of the basic attributes that determine a Pokemon's speed in battle. In addition to its offensive advantages, high Speed can also help a Pokemon avoid enemy attacks. Pokemon with high Speed are more likely to dodge opposing attacks and defend against enemy attacks.\n",
    "        - 'Total' : This feature reprent the total of the features 'HP', 'Attack', 'Sp.Atk', 'Defense', 'Sp.Def' and 'Speed' of a pokemon\n",
    "        - 'Generation' : refers to the period during which a Pokemon has been introduced into the game.\n",
    "        "
   ]
  },
  {
   "cell_type": "code",
   "execution_count": 11,
   "id": "e70b89f1-2343-477d-aa4d-4072cb3b0069",
   "metadata": {},
   "outputs": [
    {
     "name": "stdout",
     "output_type": "stream",
     "text": [
      "<class 'pandas.core.frame.DataFrame'>\n",
      "Int64Index: 600 entries, 220 to 704\n",
      "Data columns (total 10 columns):\n",
      " #   Column      Non-Null Count  Dtype \n",
      "---  ------      --------------  ----- \n",
      " 0   Name        600 non-null    object\n",
      " 1   Type 1      600 non-null    object\n",
      " 2   Type 2      314 non-null    object\n",
      " 3   HP          600 non-null    int64 \n",
      " 4   Attack      600 non-null    int64 \n",
      " 5   Defense     600 non-null    int64 \n",
      " 6   Sp. Atk     600 non-null    int64 \n",
      " 7   Sp. Def     600 non-null    int64 \n",
      " 8   Speed       600 non-null    int64 \n",
      " 9   Generation  600 non-null    int64 \n",
      "dtypes: int64(7), object(3)\n",
      "memory usage: 51.6+ KB\n"
     ]
    }
   ],
   "source": [
    "data_train.info()"
   ]
  },
  {
   "cell_type": "markdown",
   "id": "56e9fd94-5fb3-40b7-a67b-2ea57525ec81",
   "metadata": {},
   "source": [
    "Not all pokemons have 2 types of attacks but some have only one"
   ]
  },
  {
   "cell_type": "markdown",
   "id": "353361dc-38b9-4ba4-b41f-0b2d645a3662",
   "metadata": {},
   "source": [
    "# The labels"
   ]
  },
  {
   "cell_type": "markdown",
   "id": "3b674402-c1d6-4c72-b187-95557dc0cbf1",
   "metadata": {},
   "source": [
    "Each pokemon is considered as legendary or not (1 or 0)"
   ]
  },
  {
   "cell_type": "code",
   "execution_count": 12,
   "id": "c9fd15c9-6a42-4b57-b192-97c6ae25706a",
   "metadata": {},
   "outputs": [
    {
     "data": {
      "text/plain": [
       "220    0.0\n",
       "454    0.0\n",
       "59     0.0\n",
       "466    0.0\n",
       "364    0.0\n",
       "Name: Legendary, dtype: float64"
      ]
     },
     "execution_count": 12,
     "metadata": {},
     "output_type": "execute_result"
    }
   ],
   "source": [
    "labels_train.head()"
   ]
  },
  {
   "cell_type": "code",
   "execution_count": 13,
   "id": "64ea5ae5-44f0-41a1-a7b2-200bb1cd4395",
   "metadata": {},
   "outputs": [
    {
     "data": {
      "text/plain": [
       "(array([0., 1.]), array([552,  48]))"
      ]
     },
     "execution_count": 13,
     "metadata": {},
     "output_type": "execute_result"
    }
   ],
   "source": [
    "np.unique(labels_train, return_counts=True)"
   ]
  },
  {
   "cell_type": "markdown",
   "id": "10e58954-f9d0-4dd9-8078-4d0237b43d76",
   "metadata": {},
   "source": [
    "As we can see, the dataset is very unbalanced and that's why the f1-score for the class 1 and the balanced accuracy are taken into account in our metric"
   ]
  },
  {
   "cell_type": "markdown",
   "id": "af589d7e-8c06-4b6f-9c47-17f91bd9e024",
   "metadata": {},
   "source": [
    "# Data Analysis"
   ]
  },
  {
   "cell_type": "markdown",
   "id": "fef7e25b-499d-4a29-8b60-b1fe162b5533",
   "metadata": {},
   "source": [
    "## Some statistics"
   ]
  },
  {
   "cell_type": "code",
   "execution_count": 14,
   "id": "05b36c93-6df7-4dea-8a4a-99a9d637f8ab",
   "metadata": {},
   "outputs": [
    {
     "data": {
      "text/html": [
       "<div>\n",
       "<style scoped>\n",
       "    .dataframe tbody tr th:only-of-type {\n",
       "        vertical-align: middle;\n",
       "    }\n",
       "\n",
       "    .dataframe tbody tr th {\n",
       "        vertical-align: top;\n",
       "    }\n",
       "\n",
       "    .dataframe thead th {\n",
       "        text-align: right;\n",
       "    }\n",
       "</style>\n",
       "<table border=\"1\" class=\"dataframe\">\n",
       "  <thead>\n",
       "    <tr style=\"text-align: right;\">\n",
       "      <th></th>\n",
       "      <th>HP</th>\n",
       "      <th>Attack</th>\n",
       "      <th>Defense</th>\n",
       "      <th>Sp. Atk</th>\n",
       "      <th>Sp. Def</th>\n",
       "      <th>Speed</th>\n",
       "      <th>Generation</th>\n",
       "    </tr>\n",
       "  </thead>\n",
       "  <tbody>\n",
       "    <tr>\n",
       "      <th>count</th>\n",
       "      <td>600.000000</td>\n",
       "      <td>600.000000</td>\n",
       "      <td>600.000000</td>\n",
       "      <td>600.000000</td>\n",
       "      <td>600.000000</td>\n",
       "      <td>600.000000</td>\n",
       "      <td>600.000000</td>\n",
       "    </tr>\n",
       "    <tr>\n",
       "      <th>mean</th>\n",
       "      <td>69.306667</td>\n",
       "      <td>78.543333</td>\n",
       "      <td>73.856667</td>\n",
       "      <td>72.455000</td>\n",
       "      <td>71.868333</td>\n",
       "      <td>67.823333</td>\n",
       "      <td>3.348333</td>\n",
       "    </tr>\n",
       "    <tr>\n",
       "      <th>std</th>\n",
       "      <td>26.038227</td>\n",
       "      <td>32.523701</td>\n",
       "      <td>30.884882</td>\n",
       "      <td>32.707557</td>\n",
       "      <td>27.451782</td>\n",
       "      <td>29.626311</td>\n",
       "      <td>1.669824</td>\n",
       "    </tr>\n",
       "    <tr>\n",
       "      <th>min</th>\n",
       "      <td>1.000000</td>\n",
       "      <td>5.000000</td>\n",
       "      <td>5.000000</td>\n",
       "      <td>10.000000</td>\n",
       "      <td>20.000000</td>\n",
       "      <td>5.000000</td>\n",
       "      <td>1.000000</td>\n",
       "    </tr>\n",
       "    <tr>\n",
       "      <th>25%</th>\n",
       "      <td>50.000000</td>\n",
       "      <td>55.000000</td>\n",
       "      <td>50.000000</td>\n",
       "      <td>48.750000</td>\n",
       "      <td>50.000000</td>\n",
       "      <td>45.000000</td>\n",
       "      <td>2.000000</td>\n",
       "    </tr>\n",
       "    <tr>\n",
       "      <th>50%</th>\n",
       "      <td>66.000000</td>\n",
       "      <td>75.000000</td>\n",
       "      <td>70.000000</td>\n",
       "      <td>65.000000</td>\n",
       "      <td>70.000000</td>\n",
       "      <td>65.000000</td>\n",
       "      <td>3.000000</td>\n",
       "    </tr>\n",
       "    <tr>\n",
       "      <th>75%</th>\n",
       "      <td>80.000000</td>\n",
       "      <td>100.000000</td>\n",
       "      <td>90.000000</td>\n",
       "      <td>95.000000</td>\n",
       "      <td>90.000000</td>\n",
       "      <td>90.000000</td>\n",
       "      <td>5.000000</td>\n",
       "    </tr>\n",
       "    <tr>\n",
       "      <th>max</th>\n",
       "      <td>255.000000</td>\n",
       "      <td>190.000000</td>\n",
       "      <td>230.000000</td>\n",
       "      <td>194.000000</td>\n",
       "      <td>200.000000</td>\n",
       "      <td>180.000000</td>\n",
       "      <td>6.000000</td>\n",
       "    </tr>\n",
       "  </tbody>\n",
       "</table>\n",
       "</div>"
      ],
      "text/plain": [
       "               HP      Attack     Defense     Sp. Atk     Sp. Def       Speed  \\\n",
       "count  600.000000  600.000000  600.000000  600.000000  600.000000  600.000000   \n",
       "mean    69.306667   78.543333   73.856667   72.455000   71.868333   67.823333   \n",
       "std     26.038227   32.523701   30.884882   32.707557   27.451782   29.626311   \n",
       "min      1.000000    5.000000    5.000000   10.000000   20.000000    5.000000   \n",
       "25%     50.000000   55.000000   50.000000   48.750000   50.000000   45.000000   \n",
       "50%     66.000000   75.000000   70.000000   65.000000   70.000000   65.000000   \n",
       "75%     80.000000  100.000000   90.000000   95.000000   90.000000   90.000000   \n",
       "max    255.000000  190.000000  230.000000  194.000000  200.000000  180.000000   \n",
       "\n",
       "       Generation  \n",
       "count  600.000000  \n",
       "mean     3.348333  \n",
       "std      1.669824  \n",
       "min      1.000000  \n",
       "25%      2.000000  \n",
       "50%      3.000000  \n",
       "75%      5.000000  \n",
       "max      6.000000  "
      ]
     },
     "execution_count": 14,
     "metadata": {},
     "output_type": "execute_result"
    }
   ],
   "source": [
    "data_train.describe()"
   ]
  },
  {
   "cell_type": "markdown",
   "id": "39c343fd-da6b-43e8-bf04-71cb011903b1",
   "metadata": {},
   "source": [
    "## Visualisation of relationships between numerical variables"
   ]
  },
  {
   "cell_type": "code",
   "execution_count": 15,
   "id": "3f6020ec-f17d-4a22-a97e-5f1695cd1de6",
   "metadata": {},
   "outputs": [],
   "source": [
    "df_tot = data_train.copy()\n",
    "df_tot['Label'] = labels_train"
   ]
  },
  {
   "cell_type": "code",
   "execution_count": 16,
   "id": "4df6d413-3f86-46a5-b947-036a6b0c59db",
   "metadata": {},
   "outputs": [],
   "source": [
    "plt.figure()\n",
    "sns.pairplot(df_tot, hue='Label')\n",
    "plt.show()"
   ]
  },
  {
   "cell_type": "markdown",
   "id": "3ec559bc-382b-4595-9ae4-e695e3ca6978",
   "metadata": {},
   "source": [
    "## Correlation between features"
   ]
  },
  {
   "cell_type": "code",
   "execution_count": null,
   "id": "d29af0d7-ecb3-47ae-bd64-812e35e644c1",
   "metadata": {},
   "outputs": [
    {
     "data": {
      "image/png": "[encoded data removed]",
      "text/plain": [
       "<Figure size 1000x500 with 2 Axes>"
      ]
     },
     "metadata": {},
     "output_type": "display_data"
    }
   ],
   "source": [
    "num_cols = df_tot.select_dtypes(include='number').columns.tolist()\n",
    "corr_matrix = df_tot[num_cols].corr(method='pearson')\n",
    "plt.figure(figsize=(10,5))\n",
    "sns.heatmap(corr_matrix, annot=True, xticklabels=corr_matrix.columns, yticklabels=corr_matrix.columns)\n",
    "plt.show()"
   ]
  },
  {
   "cell_type": "markdown",
   "id": "7c9debcd-ba6d-40fc-a566-6b3109b3fc56",
   "metadata": {},
   "source": [
    "## Repartition of Attack Type"
   ]
  },
  {
   "cell_type": "code",
   "execution_count": null,
   "id": "659237c8-1afd-4c19-9940-67777d46b59d",
   "metadata": {},
   "outputs": [
    {
     "data": {
      "text/plain": [
       "<AxesSubplot: >"
      ]
     },
     "execution_count": 15,
     "metadata": {},
     "output_type": "execute_result"
    },
    {
     "data": {
      "image/png": "[encoded data removed]",
      "text/plain": [
       "<Figure size 800x600 with 1 Axes>"
      ]
     },
     "metadata": {},
     "output_type": "display_data"
    }
   ],
   "source": [
    "plt.figure(figsize=(8,6))\n",
    "(data_train['Type 2'].value_counts() + data_train['Type 1'].value_counts()).plot(kind='pie', autopct='%1.1f%%',pctdistance=1.0)"
   ]
  },
  {
   "cell_type": "markdown",
   "id": "5254a5d4-a320-4558-82fe-045733e34218",
   "metadata": {},
   "source": [
    "# Workflow"
   ]
  },
  {
   "cell_type": "markdown",
   "id": "a1371fd8",
   "metadata": {},
   "source": [
    "![Workflow](img/workflow.png)"
   ]
  },
  {
   "cell_type": "markdown",
   "id": "06a824a3-8d5c-4f5f-8262-31240323ed97",
   "metadata": {},
   "source": [
    "## The model to submit\n",
    "The submission consists of one file: estimator.py which defines a get_estimator function returning a scikit-learn model from which we will call fit and predict methods. The prediction should be in the form of a (n_samples, 2) array with the probabilities of the two classes."
   ]
  },
  {
   "cell_type": "markdown",
   "id": "0a05748c-0115-4461-adc4-3e5df5f47ee0",
   "metadata": {},
   "source": [
    "An example get_estimator, adding an selector of numerical features, a standard scaler and a classifier doing a Logistic Regression:"
   ]
  },
  {
   "cell_type": "code",
   "execution_count": null,
   "id": "c2cbc675-e216-4e4c-9611-8b0b9bee1256",
   "metadata": {},
   "outputs": [],
   "source": [
    "from sklearn.base import BaseEstimator\n",
    "from sklearn.pipeline import make_pipeline\n",
    "from sklearn.preprocessing import StandardScaler\n",
    "from sklearn.linear_model import LogisticRegression\n",
    "\n",
    "\n",
    "def selec_num_features(X_df):\n",
    "    \"\"\"\n",
    "    For a given dataframe, return only the dataset with numerical features\n",
    "\n",
    "    Parameters\n",
    "    ----------\n",
    "    X : dataframe\n",
    "    \"\"\"\n",
    "    \n",
    "    num_features = X_df.select_dtypes(include='number').columns.tolist()\n",
    "    \n",
    "    return X_df[num_features]\n",
    "\n",
    "\n",
    "class FeatureExtractor(BaseEstimator):\n",
    "    def fit(self, X, y):\n",
    "        return self\n",
    "\n",
    "    def transform(self, X):\n",
    "        return selec_num_features(X)\n",
    "\n",
    "\n",
    "class Classifier(BaseEstimator):\n",
    "    def __init__(self):\n",
    "        self.model = LogisticRegression()\n",
    " \n",
    "        \n",
    "    def fit(self, X, y):\n",
    "        self.model.fit(X, y)\n",
    " \n",
    "    def predict(self, X):\n",
    "        y_pred = self.model.predict_proba(X)\n",
    "        return y_pred\n",
    "\n",
    "\n",
    "def get_estimator():\n",
    "    feature_extractor = FeatureExtractor()\n",
    "\n",
    "    classifier = Classifier()\n",
    "\n",
    "    pipe = make_pipeline(feature_extractor, StandardScaler(), classifier)\n",
    "    return pipe"
   ]
  },
  {
   "cell_type": "markdown",
   "id": "4c3390d3-c740-419f-8724-d05d8fbfcddb",
   "metadata": {},
   "source": [
    "Using thus model interactively in the notebook to fit on the training data and predict for the testing data:"
   ]
  },
  {
   "cell_type": "code",
   "execution_count": null,
   "id": "f4c82355-6dde-4dad-baae-512ea95ca073",
   "metadata": {},
   "outputs": [],
   "source": [
    "model = get_estimator()"
   ]
  },
  {
   "cell_type": "code",
   "execution_count": null,
   "id": "364d49e0-bd1e-463c-927f-a4bd9eecccb4",
   "metadata": {},
   "outputs": [
    {
     "data": {
      "text/html": [
       "<style>#sk-container-id-1 {color: black;background-color: white;}#sk-container-id-1 pre{padding: 0;}#sk-container-id-1 div.sk-toggleable {background-color: white;}#sk-container-id-1 label.sk-toggleable__label {cursor: pointer;display: block;width: 100%;margin-bottom: 0;padding: 0.3em;box-sizing: border-box;text-align: center;}#sk-container-id-1 label.sk-toggleable__label-arrow:before {content: \"▸\";float: left;margin-right: 0.25em;color: #696969;}#sk-container-id-1 label.sk-toggleable__label-arrow:hover:before {color: black;}#sk-container-id-1 div.sk-estimator:hover label.sk-toggleable__label-arrow:before {color: black;}#sk-container-id-1 div.sk-toggleable__content {max-height: 0;max-width: 0;overflow: hidden;text-align: left;background-color: #f0f8ff;}#sk-container-id-1 div.sk-toggleable__content pre {margin: 0.2em;color: black;border-radius: 0.25em;background-color: #f0f8ff;}#sk-container-id-1 input.sk-toggleable__control:checked~div.sk-toggleable__content {max-height: 200px;max-width: 100%;overflow: auto;}#sk-container-id-1 input.sk-toggleable__control:checked~label.sk-toggleable__label-arrow:before {content: \"▾\";}#sk-container-id-1 div.sk-estimator input.sk-toggleable__control:checked~label.sk-toggleable__label {background-color: #d4ebff;}#sk-container-id-1 div.sk-label input.sk-toggleable__control:checked~label.sk-toggleable__label {background-color: #d4ebff;}#sk-container-id-1 input.sk-hidden--visually {border: 0;clip: rect(1px 1px 1px 1px);clip: rect(1px, 1px, 1px, 1px);height: 1px;margin: -1px;overflow: hidden;padding: 0;position: absolute;width: 1px;}#sk-container-id-1 div.sk-estimator {font-family: monospace;background-color: #f0f8ff;border: 1px dotted black;border-radius: 0.25em;box-sizing: border-box;margin-bottom: 0.5em;}#sk-container-id-1 div.sk-estimator:hover {background-color: #d4ebff;}#sk-container-id-1 div.sk-parallel-item::after {content: \"\";width: 100%;border-bottom: 1px solid gray;flex-grow: 1;}#sk-container-id-1 div.sk-label:hover label.sk-toggleable__label {background-color: #d4ebff;}#sk-container-id-1 div.sk-serial::before {content: \"\";position: absolute;border-left: 1px solid gray;box-sizing: border-box;top: 0;bottom: 0;left: 50%;z-index: 0;}#sk-container-id-1 div.sk-serial {display: flex;flex-direction: column;align-items: center;background-color: white;padding-right: 0.2em;padding-left: 0.2em;position: relative;}#sk-container-id-1 div.sk-item {position: relative;z-index: 1;}#sk-container-id-1 div.sk-parallel {display: flex;align-items: stretch;justify-content: center;background-color: white;position: relative;}#sk-container-id-1 div.sk-item::before, #sk-container-id-1 div.sk-parallel-item::before {content: \"\";position: absolute;border-left: 1px solid gray;box-sizing: border-box;top: 0;bottom: 0;left: 50%;z-index: -1;}#sk-container-id-1 div.sk-parallel-item {display: flex;flex-direction: column;z-index: 1;position: relative;background-color: white;}#sk-container-id-1 div.sk-parallel-item:first-child::after {align-self: flex-end;width: 50%;}#sk-container-id-1 div.sk-parallel-item:last-child::after {align-self: flex-start;width: 50%;}#sk-container-id-1 div.sk-parallel-item:only-child::after {width: 0;}#sk-container-id-1 div.sk-dashed-wrapped {border: 1px dashed gray;margin: 0 0.4em 0.5em 0.4em;box-sizing: border-box;padding-bottom: 0.4em;background-color: white;}#sk-container-id-1 div.sk-label label {font-family: monospace;font-weight: bold;display: inline-block;line-height: 1.2em;}#sk-container-id-1 div.sk-label-container {text-align: center;}#sk-container-id-1 div.sk-container {/* jupyter's `normalize.less` sets `[hidden] { display: none; }` but bootstrap.min.css set `[hidden] { display: none !important; }` so we also need the `!important` here to be able to override the default hidden behavior on the sphinx rendered scikit-learn.org. See: https://github.com/scikit-learn/scikit-learn/issues/21755 */display: inline-block !important;position: relative;}#sk-container-id-1 div.sk-text-repr-fallback {display: none;}</style><div id=\"sk-container-id-1\" class=\"sk-top-container\"><div class=\"sk-text-repr-fallback\"><pre>Pipeline(steps=[(&#x27;featureextractor&#x27;, FeatureExtractor()),\n",
       "                (&#x27;standardscaler&#x27;, StandardScaler()),\n",
       "                (&#x27;classifier&#x27;, Classifier())])</pre><b>In a Jupyter environment, please rerun this cell to show the HTML representation or trust the notebook. <br />On GitHub, the HTML representation is unable to render, please try loading this page with nbviewer.org.</b></div><div class=\"sk-container\" hidden><div class=\"sk-item sk-dashed-wrapped\"><div class=\"sk-label-container\"><div class=\"sk-label sk-toggleable\"><input class=\"sk-toggleable__control sk-hidden--visually\" id=\"sk-estimator-id-1\" type=\"checkbox\" ><label for=\"sk-estimator-id-1\" class=\"sk-toggleable__label sk-toggleable__label-arrow\">Pipeline</label><div class=\"sk-toggleable__content\"><pre>Pipeline(steps=[(&#x27;featureextractor&#x27;, FeatureExtractor()),\n",
       "                (&#x27;standardscaler&#x27;, StandardScaler()),\n",
       "                (&#x27;classifier&#x27;, Classifier())])</pre></div></div></div><div class=\"sk-serial\"><div class=\"sk-item\"><div class=\"sk-estimator sk-toggleable\"><input class=\"sk-toggleable__control sk-hidden--visually\" id=\"sk-estimator-id-2\" type=\"checkbox\" ><label for=\"sk-estimator-id-2\" class=\"sk-toggleable__label sk-toggleable__label-arrow\">FeatureExtractor</label><div class=\"sk-toggleable__content\"><pre>FeatureExtractor()</pre></div></div></div><div class=\"sk-item\"><div class=\"sk-estimator sk-toggleable\"><input class=\"sk-toggleable__control sk-hidden--visually\" id=\"sk-estimator-id-3\" type=\"checkbox\" ><label for=\"sk-estimator-id-3\" class=\"sk-toggleable__label sk-toggleable__label-arrow\">StandardScaler</label><div class=\"sk-toggleable__content\"><pre>StandardScaler()</pre></div></div></div><div class=\"sk-item\"><div class=\"sk-estimator sk-toggleable\"><input class=\"sk-toggleable__control sk-hidden--visually\" id=\"sk-estimator-id-4\" type=\"checkbox\" ><label for=\"sk-estimator-id-4\" class=\"sk-toggleable__label sk-toggleable__label-arrow\">Classifier</label><div class=\"sk-toggleable__content\"><pre>Classifier()</pre></div></div></div></div></div></div></div>"
      ],
      "text/plain": [
       "Pipeline(steps=[('featureextractor', FeatureExtractor()),\n",
       "                ('standardscaler', StandardScaler()),\n",
       "                ('classifier', Classifier())])"
      ]
     },
     "execution_count": 18,
     "metadata": {},
     "output_type": "execute_result"
    }
   ],
   "source": [
    "model.fit(data_train, labels_train)"
   ]
  },
  {
   "cell_type": "code",
   "execution_count": null,
   "id": "2b740fb4-70af-4d00-a623-2b22ec9c910b",
   "metadata": {},
   "outputs": [],
   "source": [
    "y_pred = model.predict(data_test)"
   ]
  },
  {
   "cell_type": "markdown",
   "id": "0155e370-c68c-4dae-a33f-a956b9118b96",
   "metadata": {},
   "source": [
    "The predictions are in a 2D array :"
   ]
  },
  {
   "cell_type": "code",
   "execution_count": null,
   "id": "ab05d795-772a-485d-9f6a-d54dd16f1d64",
   "metadata": {},
   "outputs": [
    {
     "data": {
      "text/plain": [
       "(200, 2)"
      ]
     },
     "execution_count": 20,
     "metadata": {},
     "output_type": "execute_result"
    }
   ],
   "source": [
    "y_pred.shape"
   ]
  },
  {
   "cell_type": "markdown",
   "id": "fcdaeb38-e1a7-4e94-9f60-5982d4fc8465",
   "metadata": {},
   "source": [
    "# Evaluation"
   ]
  },
  {
   "cell_type": "markdown",
   "id": "4951f6c5-b130-4842-beaa-1eb223bf5465",
   "metadata": {},
   "source": [
    "We evaluate for each pokemon blablablabla"
   ]
  },
  {
   "cell_type": "code",
   "execution_count": null,
   "id": "9eb84310-d4da-45c9-900a-385929a2d11a",
   "metadata": {},
   "outputs": [],
   "source": [
    "from sklearn.metrics import log_loss, classification_report, accuracy_score, balanced_accuracy_score, ConfusionMatrixDisplay"
   ]
  },
  {
   "cell_type": "code",
   "execution_count": null,
   "id": "4a262bf9-e835-4ef2-94b5-b7d7a97a5878",
   "metadata": {},
   "outputs": [
    {
     "name": "stdout",
     "output_type": "stream",
     "text": [
      "The log_loss of the default model is 0.116\n"
     ]
    }
   ],
   "source": [
    "print(f\"The log_loss of the default model is \" f\"{log_loss(labels_test, y_pred):.3f}\")"
   ]
  },
  {
   "cell_type": "code",
   "execution_count": null,
   "id": "b99bfa1e-cb3b-44df-8451-b0673a3e505e",
   "metadata": {},
   "outputs": [
    {
     "name": "stdout",
     "output_type": "stream",
     "text": [
      "              precision    recall  f1-score   support\n",
      "\n",
      "         0.0       0.96      0.97      0.97       186\n",
      "         1.0       0.58      0.50      0.54        14\n",
      "\n",
      "    accuracy                           0.94       200\n",
      "   macro avg       0.77      0.74      0.75       200\n",
      "weighted avg       0.94      0.94      0.94       200\n",
      "\n"
     ]
    }
   ],
   "source": [
    "print(classification_report(labels_test, y_pred.argmax(axis=1)))"
   ]
  },
  {
   "cell_type": "code",
   "execution_count": null,
   "id": "d60d19a3-dfc6-4f6f-8955-22f23d9d430f",
   "metadata": {},
   "outputs": [
    {
     "name": "stdout",
     "output_type": "stream",
     "text": [
      "The accuracy of the default model is 0.940\n"
     ]
    }
   ],
   "source": [
    "print(f\"The accuracy of the default model is \" f\"{accuracy_score(labels_test, y_pred.argmax(axis=1)):.3f}\")"
   ]
  },
  {
   "cell_type": "code",
   "execution_count": null,
   "id": "d96449df-7588-4463-89b3-addb30520344",
   "metadata": {},
   "outputs": [
    {
     "name": "stdout",
     "output_type": "stream",
     "text": [
      "The balanced accuracy of the default model is 0.737\n"
     ]
    }
   ],
   "source": [
    "print(f\"The balanced accuracy of the default model is \" f\"{balanced_accuracy_score(labels_test, y_pred.argmax(axis=1)):.3f}\")"
   ]
  },
  {
   "cell_type": "code",
   "execution_count": null,
   "id": "5ea76072-c1ce-47c6-9a5b-811bf278b24a",
   "metadata": {},
   "outputs": [
    {
     "data": {
      "text/plain": [
       "<Figure size 640x480 with 0 Axes>"
      ]
     },
     "metadata": {},
     "output_type": "display_data"
    },
    {
     "data": {
      "image/png": "[encoded data removed]",
      "text/plain": [
       "<Figure size 640x480 with 2 Axes>"
      ]
     },
     "metadata": {},
     "output_type": "display_data"
    }
   ],
   "source": [
    "plt.figure()\n",
    "ConfusionMatrixDisplay.from_predictions(labels_test, y_pred.argmax(axis=1),cmap='Blues')\n",
    "plt.show()"
   ]
  }
 ],
 "metadata": {
  "kernelspec": {
   "display_name": "Python 3 (ipykernel)",
   "language": "python",
   "name": "python3"
  },
  "language_info": {
   "codemirror_mode": {
    "name": "ipython",
    "version": 3
   },
   "file_extension": ".py",
   "mimetype": "text/x-python",
   "name": "python",
   "nbconvert_exporter": "python",
   "pygments_lexer": "ipython3",
   "version": "3.11.1"
  }
 },
 "nbformat": 4,
 "nbformat_minor": 5
}
